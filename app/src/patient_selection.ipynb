{
 "cells": [
  {
   "cell_type": "code",
   "execution_count": 1,
   "metadata": {},
   "outputs": [],
   "source": [
    "import pandas as pd\n",
    "import numpy as np\n",
    "import os\n",
    "import sys\n"
   ]
  },
  {
   "cell_type": "code",
   "execution_count": 26,
   "metadata": {},
   "outputs": [],
   "source": [
    "current_dir = os.getcwd()\n",
    "file_path_ml = os.path.normpath(os.path.join(current_dir, \"../\", \"data\", \"patient_ml_data.npz\"))\n",
    "data = np.load(file_path_ml, allow_pickle=True)"
   ]
  },
  {
   "cell_type": "code",
   "execution_count": 27,
   "metadata": {},
   "outputs": [
    {
     "name": "stdout",
     "output_type": "stream",
     "text": [
      "NpzFile '/workspaces/explanatory-exploratory-xui/app/data/patient_ml_data.npz' with keys: ['X_static_sel', 'y_sel', 'X_timeseries_sel']\n",
      "\n",
      "The archive contains 3 entries.\n",
      "\n",
      "The 'X_static_sel' array has 2312 entries.\n"
     ]
    }
   ],
   "source": [
    "# Print the keys in the archive.\n",
    "print(f\"NpzFile '{file_path_ml}' with keys: {data.files}\")\n",
    "\n",
    "# Overall, the archive contains as many entries as there are keys.\n",
    "print(f\"\\nThe archive contains {len(data.files)} entries.\")\n",
    "\n",
    "# Now, get the static part from the NPZ file, assumed to be stored as 'X_static_sel'.\n",
    "static_data = data[\"X_static_sel\"]\n",
    "\n",
    "# Print the number of rows (entries) within the static part.\n",
    "# This assumes that the first dimension corresponds to the number of examples.\n",
    "print(f\"\\nThe 'X_static_sel' array has {static_data.shape[0]} entries.\")"
   ]
  },
  {
   "cell_type": "code",
   "execution_count": 25,
   "metadata": {},
   "outputs": [
    {
     "name": "stdout",
     "output_type": "stream",
     "text": [
      "Modified npz file (with first 6 entries dropped) saved at:\n",
      " /workspaces/explanatory-exploratory-xui/app/data/patient_ml_data.npz\n"
     ]
    }
   ],
   "source": [
    "# Option 2: Create a new dictionary with the first 6 entries dropped from each array.\n",
    "data_dropped = {key: data[key][:-6] for key in data.files}\n",
    "\n",
    "# Save the modified data into the new file, using the same key structure.\n",
    "np.savez(file_path_ml, **data_dropped)\n",
    "\n",
    "\n",
    "print(f\"Modified npz file (with first 6 entries dropped) saved at:\\n {file_path_ml}\")"
   ]
  }
 ],
 "metadata": {
  "kernelspec": {
   "display_name": "explanatory-exploratory-xui-uIb7cYz2-py3.12",
   "language": "python",
   "name": "python3"
  },
  "language_info": {
   "codemirror_mode": {
    "name": "ipython",
    "version": 3
   },
   "file_extension": ".py",
   "mimetype": "text/x-python",
   "name": "python",
   "nbconvert_exporter": "python",
   "pygments_lexer": "ipython3",
   "version": "3.12.9"
  }
 },
 "nbformat": 4,
 "nbformat_minor": 2
}
